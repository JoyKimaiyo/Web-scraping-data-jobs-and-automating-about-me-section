{
 "cells": [
  {
   "cell_type": "code",
   "execution_count": 1,
   "id": "d5883e5a",
   "metadata": {},
   "outputs": [
    {
     "ename": "ModuleNotFoundError",
     "evalue": "No module named 'mysql'",
     "output_type": "error",
     "traceback": [
      "\u001b[31m---------------------------------------------------------------------------\u001b[39m",
      "\u001b[31mModuleNotFoundError\u001b[39m                       Traceback (most recent call last)",
      "\u001b[36mCell\u001b[39m\u001b[36m \u001b[39m\u001b[32mIn[1]\u001b[39m\u001b[32m, line 2\u001b[39m\n\u001b[32m      1\u001b[39m \u001b[38;5;28;01mimport\u001b[39;00m\u001b[38;5;250m \u001b[39m\u001b[34;01mpandas\u001b[39;00m\u001b[38;5;250m \u001b[39m\u001b[38;5;28;01mas\u001b[39;00m\u001b[38;5;250m \u001b[39m\u001b[34;01mpd\u001b[39;00m\n\u001b[32m----> \u001b[39m\u001b[32m2\u001b[39m \u001b[38;5;28;01mimport\u001b[39;00m\u001b[38;5;250m \u001b[39m\u001b[34;01mmysql\u001b[39;00m\u001b[34;01m.\u001b[39;00m\u001b[34;01mconnector\u001b[39;00m\n\u001b[32m      4\u001b[39m conn = mysql.connector.connect(\n\u001b[32m      5\u001b[39m     host=\u001b[33m'\u001b[39m\u001b[33mlocalhost\u001b[39m\u001b[33m'\u001b[39m,\n\u001b[32m      6\u001b[39m     user=\u001b[33m'\u001b[39m\u001b[33mroot\u001b[39m\u001b[33m'\u001b[39m,\n\u001b[32m      7\u001b[39m     password=\u001b[33m'\u001b[39m\u001b[33mTimmy@2013\u001b[39m\u001b[33m'\u001b[39m,\n\u001b[32m      8\u001b[39m     database=\u001b[33m'\u001b[39m\u001b[33mjob_scraper\u001b[39m\u001b[33m'\u001b[39m\n\u001b[32m      9\u001b[39m )\n\u001b[32m     11\u001b[39m df = pd.read_sql(\u001b[33m\"\u001b[39m\u001b[33mSELECT * FROM jobs\u001b[39m\u001b[33m\"\u001b[39m, conn)\n",
      "\u001b[31mModuleNotFoundError\u001b[39m: No module named 'mysql'"
     ]
    }
   ],
   "source": [
    "import pandas as pd\n",
    "import mysql.connector\n",
    "\n",
    "conn = mysql.connector.connect(\n",
    "    host='localhost',\n",
    "    user='root',\n",
    "    password='Timmy@2013',\n",
    "    database='job_scraper'\n",
    ")\n",
    "\n",
    "df = pd.read_sql(\"SELECT * FROM jobs\", conn)\n",
    "df.to_csv('/home/yourname/Downloads/jobs.csv', sep=';', quotechar='\"', index=False)\n"
   ]
  },
  {
   "cell_type": "code",
   "execution_count": null,
   "id": "eba59fe6",
   "metadata": {},
   "outputs": [],
   "source": []
  }
 ],
 "metadata": {
  "kernelspec": {
   "display_name": "Python (airflow_env)",
   "language": "python",
   "name": "airflow_env"
  },
  "language_info": {
   "codemirror_mode": {
    "name": "ipython",
    "version": 3
   },
   "file_extension": ".py",
   "mimetype": "text/x-python",
   "name": "python",
   "nbconvert_exporter": "python",
   "pygments_lexer": "ipython3",
   "version": "3.12.3"
  }
 },
 "nbformat": 4,
 "nbformat_minor": 5
}
